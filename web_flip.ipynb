{
 "cells": [
  {
   "cell_type": "code",
   "execution_count": 20,
   "metadata": {},
   "outputs": [
    {
     "name": "stderr",
     "output_type": "stream",
     "text": [
      "C:\\Users\\ELCOT\\AppData\\Local\\Temp\\ipykernel_10052\\442112132.py:3: DeprecationWarning: executable_path has been deprecated, please pass in a Service object\n",
      "  driver = webdriver.Chrome(ChromeDriverManager().install())\n"
     ]
    },
    {
     "name": "stdout",
     "output_type": "stream",
     "text": [
      "title: Mobile Price List | Compare Mobiles on Buy Online @ Flipkart.\n",
      "title url: https://www.flipkart.com/mobiles/pr?sid=tyy%2C4io&p%5B%5D=facets.processor_brand%255B%255D%3DSnapdragon&param=56554&otracker=clp_banner_3_5.bannerX3.BANNER_mobile-phones-store_T0HNKRBVW8QD&fm=neo%2Fmerchandising&iid=M_3e672e3c-3648-430b-a11d-48d70419a8d3_5.T0HNKRBVW8QD&ppt=hp&ppn=homepage&sort=popularity&p%5B%5D=facets.price_range.from%3D10000&p%5B%5D=facets.price_range.to%3D15000&p%5B%5D=facets.brand%255B%255D%3Drealme&p%5B%5D=facets.brand%255B%255D%3DPOCO&p%5B%5D=facets.brand%255B%255D%3DInfinix&p%5B%5D=facets.brand%255B%255D%3DSAMSUNG&p%5B%5D=facets.brand%255B%255D%3DMi&p%5B%5D=facets.brand%255B%255D%3DAPPLE&p%5B%5D=facets.brand%255B%255D%3DREDMI&p%5B%5D=facets.brand%255B%255D%3DOnePlus&p%5B%5D=facets.brand%255B%255D%3DNokia&p%5B%5D=facets.ram%255B%255D%3D6%2BGB&p%5B%5D=facets.ram%255B%255D%3D8%2BGB%2Band%2BAbove&page=1\n"
     ]
    }
   ],
   "source": [
    "from selenium import webdriver\n",
    "from webdriver_manager.chrome import ChromeDriverManager \n",
    "driver = webdriver.Chrome(ChromeDriverManager().install())\n",
    "driver.maximize_window()\n",
    "driver.get(\"https://www.flipkart.com/mobiles/pr?sid=tyy%2C4io&p%5B%5D=facets.processor_brand%255B%255D%3DSnapdragon&param=56554&otracker=clp_banner_3_5.bannerX3.BANNER_mobile-phones-store_T0HNKRBVW8QD&fm=neo%2Fmerchandising&iid=M_3e672e3c-3648-430b-a11d-48d70419a8d3_5.T0HNKRBVW8QD&ppt=hp&ppn=homepage&sort=popularity&p%5B%5D=facets.price_range.from%3D10000&p%5B%5D=facets.price_range.to%3D15000&p%5B%5D=facets.brand%255B%255D%3Drealme&p%5B%5D=facets.brand%255B%255D%3DPOCO&p%5B%5D=facets.brand%255B%255D%3DInfinix&p%5B%5D=facets.brand%255B%255D%3DSAMSUNG&p%5B%5D=facets.brand%255B%255D%3DMi&p%5B%5D=facets.brand%255B%255D%3DAPPLE&p%5B%5D=facets.brand%255B%255D%3DREDMI&p%5B%5D=facets.brand%255B%255D%3DOnePlus&p%5B%5D=facets.brand%255B%255D%3DNokia&p%5B%5D=facets.ram%255B%255D%3D6%2BGB&p%5B%5D=facets.ram%255B%255D%3D8%2BGB%2Band%2BAbove&page=1\")\n",
    "\n",
    "print(\"title:\",driver.title)\n",
    "print(\"title url:\",driver.current_url)\n",
    "\n",
    "driver.quit()"
   ]
  },
  {
   "cell_type": "code",
   "execution_count": 21,
   "metadata": {},
   "outputs": [],
   "source": [
    "from bs4 import BeautifulSoup\n",
    "import pandas as pd"
   ]
  },
  {
   "cell_type": "code",
   "execution_count": 22,
   "metadata": {},
   "outputs": [],
   "source": [
    "from selenium import webdriver\n",
    "from webdriver_manager.chrome import ChromeDriverManager \n",
    "from webdriver_manager.chrome import ChromeDriverManager "
   ]
  },
  {
   "cell_type": "code",
   "execution_count": 23,
   "metadata": {},
   "outputs": [
    {
     "name": "stderr",
     "output_type": "stream",
     "text": [
      "C:\\Users\\ELCOT\\AppData\\Local\\Temp\\ipykernel_10052\\1503906442.py:1: DeprecationWarning: executable_path has been deprecated, please pass in a Service object\n",
      "  driver = webdriver.Chrome(ChromeDriverManager().install())\n"
     ]
    }
   ],
   "source": [
    "driver = webdriver.Chrome(ChromeDriverManager().install())"
   ]
  },
  {
   "cell_type": "code",
   "execution_count": 24,
   "metadata": {},
   "outputs": [],
   "source": [
    "products=[] #List to store name of the product\n",
    "prices=[] #List to store price of the product\n",
    "ratings=[] #List to store rating of the product"
   ]
  },
  {
   "cell_type": "code",
   "execution_count": 25,
   "metadata": {},
   "outputs": [],
   "source": [
    "def scarp():\n",
    "    driver.get(\"https://www.flipkart.com/mobiles/pr?sid=tyy%2C4io&p%5B%5D=facets.processor_brand%255B%255D%3DSnapdragon&param=56554&otracker=clp_banner_3_5.bannerX3.BANNER_mobile-phones-store_T0HNKRBVW8QD&fm=neo%2Fmerchandising&iid=M_3e672e3c-3648-430b-a11d-48d70419a8d3_5.T0HNKRBVW8QD&ppt=hp&ppn=homepage&sort=popularity&p%5B%5D=facets.price_range.from%3D10000&p%5B%5D=facets.price_range.to%3D15000&p%5B%5D=facets.brand%255B%255D%3Drealme&p%5B%5D=facets.brand%255B%255D%3DPOCO&p%5B%5D=facets.brand%255B%255D%3DInfinix&p%5B%5D=facets.brand%255B%255D%3DSAMSUNG&p%5B%5D=facets.brand%255B%255D%3DMi&p%5B%5D=facets.brand%255B%255D%3DAPPLE&p%5B%5D=facets.brand%255B%255D%3DREDMI&p%5B%5D=facets.brand%255B%255D%3DOnePlus&p%5B%5D=facets.brand%255B%255D%3DNokia&p%5B%5D=facets.ram%255B%255D%3D6%2BGB&p%5B%5D=facets.ram%255B%255D%3D8%2BGB%2Band%2BAbove&page=1\")\n",
    "    content = driver.page_source\n",
    "    soup = BeautifulSoup(content,\"html.parser\")\n",
    "\n",
    "\n",
    "    for a in soup.find_all('div',{'class':'_1AtVbE col-12-12'}):\n",
    "        name=a.find('div', attrs={'class':'_4rR01T'})\n",
    "        price=a.find('div', attrs={'class':'_30jeq3 _1_WHN1'})\n",
    "        rating=a.find('div', attrs={'class':'_3LWZlK'})\n",
    "        #print(type(rating),type(price),type(name))\n",
    "        products.append(name)\n",
    "        prices.append(price)\n",
    "        ratings.append(rating)"
   ]
  },
  {
   "cell_type": "code",
   "execution_count": 26,
   "metadata": {},
   "outputs": [],
   "source": [
    "scarp()"
   ]
  },
  {
   "cell_type": "code",
   "execution_count": 27,
   "metadata": {},
   "outputs": [
    {
     "data": {
      "text/plain": [
       "(28, 28, 28)"
      ]
     },
     "execution_count": 27,
     "metadata": {},
     "output_type": "execute_result"
    }
   ],
   "source": [
    "len(products),len(prices),len(ratings)"
   ]
  },
  {
   "cell_type": "code",
   "execution_count": 28,
   "metadata": {},
   "outputs": [
    {
     "data": {
      "text/html": [
       "<div>\n",
       "<style scoped>\n",
       "    .dataframe tbody tr th:only-of-type {\n",
       "        vertical-align: middle;\n",
       "    }\n",
       "\n",
       "    .dataframe tbody tr th {\n",
       "        vertical-align: top;\n",
       "    }\n",
       "\n",
       "    .dataframe thead th {\n",
       "        text-align: right;\n",
       "    }\n",
       "</style>\n",
       "<table border=\"1\" class=\"dataframe\">\n",
       "  <thead>\n",
       "    <tr style=\"text-align: right;\">\n",
       "      <th></th>\n",
       "      <th>Product Name</th>\n",
       "      <th>Price</th>\n",
       "      <th>Rating</th>\n",
       "    </tr>\n",
       "  </thead>\n",
       "  <tbody>\n",
       "    <tr>\n",
       "      <th>0</th>\n",
       "      <td>None</td>\n",
       "      <td>None</td>\n",
       "      <td>None</td>\n",
       "    </tr>\n",
       "    <tr>\n",
       "      <th>1</th>\n",
       "      <td>None</td>\n",
       "      <td>None</td>\n",
       "      <td>None</td>\n",
       "    </tr>\n",
       "    <tr>\n",
       "      <th>2</th>\n",
       "      <td>[SAMSUNG Galaxy F23 5G (Forest Green, 128 GB)]</td>\n",
       "      <td>[₹14,999]</td>\n",
       "      <td>[4.3, []]</td>\n",
       "    </tr>\n",
       "    <tr>\n",
       "      <th>3</th>\n",
       "      <td>[SAMSUNG Galaxy F23 5G (Aqua Blue, 128 GB)]</td>\n",
       "      <td>[₹14,999]</td>\n",
       "      <td>[4.3, []]</td>\n",
       "    </tr>\n",
       "    <tr>\n",
       "      <th>4</th>\n",
       "      <td>[SAMSUNG Galaxy F23 5G (Copper Blush, 128 GB)]</td>\n",
       "      <td>[₹14,999]</td>\n",
       "      <td>[4.3, []]</td>\n",
       "    </tr>\n",
       "    <tr>\n",
       "      <th>5</th>\n",
       "      <td>[POCO X4 Pro 5G (Laser Blue, 64 GB)]</td>\n",
       "      <td>[₹14,999]</td>\n",
       "      <td>[4.2, []]</td>\n",
       "    </tr>\n",
       "    <tr>\n",
       "      <th>6</th>\n",
       "      <td>[REDMI 10 (Caribbean Green, 128 GB)]</td>\n",
       "      <td>[₹11,999]</td>\n",
       "      <td>[4.2, []]</td>\n",
       "    </tr>\n",
       "    <tr>\n",
       "      <th>7</th>\n",
       "      <td>[realme 9 (Sunburst Gold, 128 GB)]</td>\n",
       "      <td>[₹14,599]</td>\n",
       "      <td>[4.4, []]</td>\n",
       "    </tr>\n",
       "    <tr>\n",
       "      <th>8</th>\n",
       "      <td>[realme 9 (Stargaze White, 128 GB)]</td>\n",
       "      <td>[₹14,599]</td>\n",
       "      <td>[4.4, []]</td>\n",
       "    </tr>\n",
       "    <tr>\n",
       "      <th>9</th>\n",
       "      <td>[realme 9 (Meteor Black, 128 GB)]</td>\n",
       "      <td>[₹14,599]</td>\n",
       "      <td>[4.4, []]</td>\n",
       "    </tr>\n",
       "    <tr>\n",
       "      <th>10</th>\n",
       "      <td>[REDMI 10 (Pacific Blue, 128 GB)]</td>\n",
       "      <td>[₹11,999]</td>\n",
       "      <td>[4.2, []]</td>\n",
       "    </tr>\n",
       "    <tr>\n",
       "      <th>11</th>\n",
       "      <td>[realme 9i (Prism Blue, 128 GB)]</td>\n",
       "      <td>[₹13,599]</td>\n",
       "      <td>[4.5, []]</td>\n",
       "    </tr>\n",
       "    <tr>\n",
       "      <th>12</th>\n",
       "      <td>[POCO X4 Pro 5G (Yellow, 64 GB)]</td>\n",
       "      <td>[₹14,999]</td>\n",
       "      <td>[4.2, []]</td>\n",
       "    </tr>\n",
       "    <tr>\n",
       "      <th>13</th>\n",
       "      <td>[REDMI 10 (Midnight Black, 128 GB)]</td>\n",
       "      <td>[₹11,999]</td>\n",
       "      <td>[4.2, []]</td>\n",
       "    </tr>\n",
       "    <tr>\n",
       "      <th>14</th>\n",
       "      <td>[Redmi Note 11 (Horizon Blue, 128 GB)]</td>\n",
       "      <td>[₹14,856]</td>\n",
       "      <td>[4.2, []]</td>\n",
       "    </tr>\n",
       "    <tr>\n",
       "      <th>15</th>\n",
       "      <td>[POCO X4 Pro 5G (Laser Black, 64 GB)]</td>\n",
       "      <td>[₹14,999]</td>\n",
       "      <td>[4.2, []]</td>\n",
       "    </tr>\n",
       "    <tr>\n",
       "      <th>16</th>\n",
       "      <td>[Redmi Note 11 (Space Black, 64 GB)]</td>\n",
       "      <td>[₹12,626]</td>\n",
       "      <td>[4.2, []]</td>\n",
       "    </tr>\n",
       "    <tr>\n",
       "      <th>17</th>\n",
       "      <td>[Redmi Note 11 (Starburst White, 64 GB)]</td>\n",
       "      <td>[₹12,750]</td>\n",
       "      <td>[4.2, []]</td>\n",
       "    </tr>\n",
       "    <tr>\n",
       "      <th>18</th>\n",
       "      <td>[Redmi Note 11 (Starburst White, 64 GB)]</td>\n",
       "      <td>[₹12,990]</td>\n",
       "      <td>[4.2, []]</td>\n",
       "    </tr>\n",
       "    <tr>\n",
       "      <th>19</th>\n",
       "      <td>[Redmi Note 11 (Horizon Blue, 64 GB)]</td>\n",
       "      <td>[₹12,637]</td>\n",
       "      <td>[4.2, []]</td>\n",
       "    </tr>\n",
       "    <tr>\n",
       "      <th>20</th>\n",
       "      <td>[REDMI 10 Power (Power Black, 128 GB)]</td>\n",
       "      <td>[₹13,799]</td>\n",
       "      <td>[4.1, []]</td>\n",
       "    </tr>\n",
       "    <tr>\n",
       "      <th>21</th>\n",
       "      <td>[REDMI 10 Power (Sporty Orange, 128 GB)]</td>\n",
       "      <td>[₹13,900]</td>\n",
       "      <td>[4.1, []]</td>\n",
       "    </tr>\n",
       "    <tr>\n",
       "      <th>22</th>\n",
       "      <td>[REDMI Note 10 Lite (Glacier White, 128 GB)]</td>\n",
       "      <td>[₹14,398]</td>\n",
       "      <td>[4.3, []]</td>\n",
       "    </tr>\n",
       "    <tr>\n",
       "      <th>23</th>\n",
       "      <td>[REDMI NOTE 10 LITE (Champagne Gold, 128 GB)]</td>\n",
       "      <td>[₹14,489]</td>\n",
       "      <td>[4.3, []]</td>\n",
       "    </tr>\n",
       "    <tr>\n",
       "      <th>24</th>\n",
       "      <td>[POCO M3 (Cool Blue, 64 GB)]</td>\n",
       "      <td>[₹12,999]</td>\n",
       "      <td>[4.3, []]</td>\n",
       "    </tr>\n",
       "    <tr>\n",
       "      <th>25</th>\n",
       "      <td>[POCO F1 (Rosso Red, 64 GB)]</td>\n",
       "      <td>[₹13,999]</td>\n",
       "      <td>[4.5, []]</td>\n",
       "    </tr>\n",
       "    <tr>\n",
       "      <th>26</th>\n",
       "      <td>None</td>\n",
       "      <td>None</td>\n",
       "      <td>None</td>\n",
       "    </tr>\n",
       "    <tr>\n",
       "      <th>27</th>\n",
       "      <td>None</td>\n",
       "      <td>None</td>\n",
       "      <td>None</td>\n",
       "    </tr>\n",
       "  </tbody>\n",
       "</table>\n",
       "</div>"
      ],
      "text/plain": [
       "                                      Product Name      Price     Rating\n",
       "0                                             None       None       None\n",
       "1                                             None       None       None\n",
       "2   [SAMSUNG Galaxy F23 5G (Forest Green, 128 GB)]  [₹14,999]  [4.3, []]\n",
       "3      [SAMSUNG Galaxy F23 5G (Aqua Blue, 128 GB)]  [₹14,999]  [4.3, []]\n",
       "4   [SAMSUNG Galaxy F23 5G (Copper Blush, 128 GB)]  [₹14,999]  [4.3, []]\n",
       "5             [POCO X4 Pro 5G (Laser Blue, 64 GB)]  [₹14,999]  [4.2, []]\n",
       "6             [REDMI 10 (Caribbean Green, 128 GB)]  [₹11,999]  [4.2, []]\n",
       "7               [realme 9 (Sunburst Gold, 128 GB)]  [₹14,599]  [4.4, []]\n",
       "8              [realme 9 (Stargaze White, 128 GB)]  [₹14,599]  [4.4, []]\n",
       "9                [realme 9 (Meteor Black, 128 GB)]  [₹14,599]  [4.4, []]\n",
       "10               [REDMI 10 (Pacific Blue, 128 GB)]  [₹11,999]  [4.2, []]\n",
       "11                [realme 9i (Prism Blue, 128 GB)]  [₹13,599]  [4.5, []]\n",
       "12                [POCO X4 Pro 5G (Yellow, 64 GB)]  [₹14,999]  [4.2, []]\n",
       "13             [REDMI 10 (Midnight Black, 128 GB)]  [₹11,999]  [4.2, []]\n",
       "14          [Redmi Note 11 (Horizon Blue, 128 GB)]  [₹14,856]  [4.2, []]\n",
       "15           [POCO X4 Pro 5G (Laser Black, 64 GB)]  [₹14,999]  [4.2, []]\n",
       "16            [Redmi Note 11 (Space Black, 64 GB)]  [₹12,626]  [4.2, []]\n",
       "17        [Redmi Note 11 (Starburst White, 64 GB)]  [₹12,750]  [4.2, []]\n",
       "18        [Redmi Note 11 (Starburst White, 64 GB)]  [₹12,990]  [4.2, []]\n",
       "19           [Redmi Note 11 (Horizon Blue, 64 GB)]  [₹12,637]  [4.2, []]\n",
       "20          [REDMI 10 Power (Power Black, 128 GB)]  [₹13,799]  [4.1, []]\n",
       "21        [REDMI 10 Power (Sporty Orange, 128 GB)]  [₹13,900]  [4.1, []]\n",
       "22    [REDMI Note 10 Lite (Glacier White, 128 GB)]  [₹14,398]  [4.3, []]\n",
       "23   [REDMI NOTE 10 LITE (Champagne Gold, 128 GB)]  [₹14,489]  [4.3, []]\n",
       "24                    [POCO M3 (Cool Blue, 64 GB)]  [₹12,999]  [4.3, []]\n",
       "25                    [POCO F1 (Rosso Red, 64 GB)]  [₹13,999]  [4.5, []]\n",
       "26                                            None       None       None\n",
       "27                                            None       None       None"
      ]
     },
     "execution_count": 28,
     "metadata": {},
     "output_type": "execute_result"
    }
   ],
   "source": [
    "df = pd.DataFrame({'Product Name':products,'Price':prices,'Rating':ratings}) \n",
    "df"
   ]
  },
  {
   "cell_type": "code",
   "execution_count": 29,
   "metadata": {},
   "outputs": [],
   "source": [
    "df.to_csv('data.csv')"
   ]
  }
 ],
 "metadata": {
  "kernelspec": {
   "display_name": "Python 3.11.0 64-bit",
   "language": "python",
   "name": "python3"
  },
  "language_info": {
   "codemirror_mode": {
    "name": "ipython",
    "version": 3
   },
   "file_extension": ".py",
   "mimetype": "text/x-python",
   "name": "python",
   "nbconvert_exporter": "python",
   "pygments_lexer": "ipython3",
   "version": "3.11.0 (main, Oct 24 2022, 18:26:48) [MSC v.1933 64 bit (AMD64)]"
  },
  "orig_nbformat": 4,
  "vscode": {
   "interpreter": {
    "hash": "f9f6e66b1838e629d7fffea71ba60cc93f76ed5fb0238389eec5950b973e9666"
   }
  }
 },
 "nbformat": 4,
 "nbformat_minor": 2
}
